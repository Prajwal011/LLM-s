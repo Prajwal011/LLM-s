{
  "cells": [
    {
      "cell_type": "markdown",
      "metadata": {
        "id": "view-in-github",
        "colab_type": "text"
      },
      "source": [
        "<a href=\"https://colab.research.google.com/github/Prajwal011/LLM-s-Zero-to-hero/blob/main/Text_summarization_langchain.ipynb\" target=\"_parent\"><img src=\"https://colab.research.google.com/assets/colab-badge.svg\" alt=\"Open In Colab\"/></a>"
      ]
    },
    {
      "cell_type": "markdown",
      "metadata": {
        "id": "_webU5h30jWW"
      },
      "source": [
        "## Text Summarization Using Langchain"
      ]
    },
    {
      "cell_type": "code",
      "execution_count": null,
      "metadata": {
        "id": "BtHUc-Ly0jWZ"
      },
      "outputs": [],
      "source": [
        "import os\n",
        "open_api_key = ### enter api key\n",
        "os.environ[\"OPENAI_API_KEY\"]=open_api_key"
      ]
    },
    {
      "cell_type": "code",
      "execution_count": null,
      "metadata": {
        "id": "jwCAdfQv0jWb"
      },
      "outputs": [],
      "source": [
        "## Basic Prompt Summarization\n",
        "from langchain.chat_models import ChatOpenAI\n",
        "from langchain.schema import(\n",
        "    AIMessage,\n",
        "    HumanMessage,\n",
        "    SystemMessage\n",
        ")"
      ]
    },
    {
      "cell_type": "code",
      "execution_count": null,
      "metadata": {
        "id": "D0VYeGH40jWc"
      },
      "outputs": [],
      "source": [
        "speech=\"\"\"\n",
        "People across the country, involved in government, political, and social activities, are dedicating their time to make the ‘Viksit Bharat Sankalp Yatra’ (Developed India Resolution Journey) successful. Therefore, as a Member of Parliament, it was my responsibility to also contribute my time to this program. So, today, I have come here just as a Member of Parliament and your ‘sevak’, ready to participate in this program, much like you.\n",
        "\n",
        "In our country, governments have come and gone, numerous schemes have been formulated, discussions have taken place, and big promises have been made. However, my experience and observations led me to believe that the most critical aspect that requires attention is ensuring that the government’s plans reach the intended beneficiaries without any hassles. If there is a ‘Pradhan Mantri Awas Yojana’ (Prime Minister’s housing scheme), then those who are living in jhuggis and slums should get their houses. And he should not need to make rounds of the government offices for this purpose. The government should reach him. Since you have assigned this responsibility to me, about four crore families have got their ‘pucca’ houses. However, I have encountered cases where someone is left out of the government benefits. Therefore, I have decided to tour the country again, to listen to people’s experiences with government schemes, to understand whether they received the intended benefits, and to ensure that the programs are reaching everyone as planned without paying any bribes. We will get the real picture if we visit them again. Therefore, this ‘Viksit Bharat Sankalp Yatra’ is, in a way, my own examination. I want to hear from you and the people across the country whether what I envisioned and the work I have been doing aligns with reality and whether it has reached those for whom it was meant.\n",
        "\n",
        "It is crucial to check whether the work that was supposed to happen has indeed taken place. I recently met some individuals who utilized the Ayushman card to get treatment for serious illnesses. One person met with a severe accident, and after using the card, he could afford the necessary operation, and now he is recovering well. When I asked him, he said: “How could I afford this treatment? Now that there is the Ayushman card, I mustered courage and underwent an operation. Now I am perfectly fine.”  Such stories are blessings to me.\n",
        "\n",
        "The bureaucrats, who prepare good schemes, expedite the paperwork and even allocate funds, also feel satisfied that 50 or 100 people who were supposed to get the funds have got it. The funds meant for a thousand villages have been released. But their job satisfaction peaks when they hear that their work has directly impacted someone’s life positively. When they see the tangible results of their efforts, their enthusiasm multiplies. They feel satisfied. Therefore, ‘Viksit Bharat Sankalp Yatra’ has had a positive impact on government officers. It has made them more enthusiastic about their work, especially when they witness the tangible benefits reaching the people. Officers now feel satisfied with their work, saying, “I made a good plan, I created a file, and the intended beneficiaries received the benefits.” When they find that the money has reached a poor widow under the Jeevan Jyoti scheme and it was a great help to her during her crisis, they realise that they have done a good job. When a government officer listens to such stories, he feels very satisfied.\n",
        "\n",
        "There are very few who understand the power and impact of the ‘Viksit Bharat Sankalp Yatra’. When I hear people connected to bureaucratic circles talking about it, expressing their satisfaction, it resonates with me. I’ve heard stories where someone suddenly received 2 lakh rupees after the death of her husband, and a sister mentioned how the arrival of gas in her home transformed her lives. The most significant aspect is when someone says that the line between rich and poor has vanished. While the slogan ‘Garibi Hatao’ (Remove Poverty) is one thing, but the real change happens when a person says, “As soon as the gas stove came to my house, the distinction between poverty and affluence disappeared.\n",
        "\"\"\""
      ]
    },
    {
      "cell_type": "code",
      "execution_count": null,
      "metadata": {
        "id": "WqFoGXOs0jWd"
      },
      "outputs": [],
      "source": [
        "chat_messages=[\n",
        "    SystemMessage(content='You are an expert assistant with expertize in summarizing speeches'),\n",
        "    HumanMessage(content=f'Please provide a short and concise summary of the following speech:\\n TEXT: {speech}')\n",
        "]\n",
        "\n",
        "llm=ChatOpenAI(model_name='gpt-3.5-turbo')\n"
      ]
    },
    {
      "cell_type": "code",
      "execution_count": null,
      "metadata": {
        "id": "FHdgEV-E0jWe",
        "outputId": "1491e341-1924-4d00-cd14-16ac65451fd3"
      },
      "outputs": [
        {
          "data": {
            "text/plain": [
              "866"
            ]
          },
          "execution_count": 5,
          "metadata": {},
          "output_type": "execute_result"
        }
      ],
      "source": [
        "##total tokens\n",
        "llm.get_num_tokens(speech)"
      ]
    },
    {
      "cell_type": "code",
      "execution_count": null,
      "metadata": {
        "id": "Jm7nSVum0jWh",
        "outputId": "266a2b60-631d-4cab-b282-f8aaec8dad86"
      },
      "outputs": [
        {
          "data": {
            "text/plain": [
              "\"In this speech, the speaker discusses the importance of ensuring that government plans and schemes reach the intended beneficiaries without any difficulties. They highlight their own efforts in providing housing to four crore families and express their commitment to touring the country to listen to people's experiences with government schemes. The speaker emphasizes the need to assess whether the work that was supposed to happen has actually taken place and shares stories of individuals who benefited from government initiatives such as the Ayushman card. They also discuss the positive impact of the 'Viksit Bharat Sankalp Yatra' on government officers, who feel satisfied when they see the tangible benefits of their efforts reaching people. The speaker concludes by highlighting the power and impact of the journey, as it helps bridge the gap between rich and poor and brings positive changes to people's lives.\""
            ]
          },
          "execution_count": 7,
          "metadata": {},
          "output_type": "execute_result"
        }
      ],
      "source": [
        "llm(chat_messages).content"
      ]
    },
    {
      "cell_type": "code",
      "execution_count": null,
      "metadata": {
        "id": "02kd8yhs0jWj",
        "outputId": "757427c3-debf-4072-c161-efdd2aee222c"
      },
      "outputs": [
        {
          "name": "stdout",
          "output_type": "stream",
          "text": [
            "The speaker is discussing the importance of ensuring that government plans and schemes reach the intended beneficiaries without any difficulties. They mention their responsibility as a Member of Parliament to contribute to the 'Viksit Bharat Sankalp Yatra' program, which aims to assess whether government schemes are reaching the people as intended. The speaker shares examples of individuals who have benefited from government schemes and emphasizes the positive impact it has on both the beneficiaries and government officers involved. They highlight the importance of tangible results and the satisfaction that comes from knowing their work has directly impacted someone's life. The speaker also mentions the power of the 'Viksit Bharat Sankalp Yatra' in bringing about positive change and eliminating the distinction between poverty and affluence.\n"
          ]
        }
      ],
      "source": [
        "##get_summary\n",
        "print(llm(chat_messages).content)"
      ]
    },
    {
      "cell_type": "markdown",
      "metadata": {
        "id": "EfPN2-kP0jWl"
      },
      "source": [
        "## Prompt Templates Text Summarization"
      ]
    },
    {
      "cell_type": "code",
      "execution_count": null,
      "metadata": {
        "id": "DQy2UEgE0jWm"
      },
      "outputs": [],
      "source": [
        "\n",
        "from langchain.chains import LLMChain\n",
        "from langchain import PromptTemplate"
      ]
    },
    {
      "cell_type": "code",
      "execution_count": null,
      "metadata": {
        "id": "hUcfVtHT0jWn"
      },
      "outputs": [],
      "source": [
        "generic_template='''\n",
        "Write a summary of the following speech:\n",
        "Speech : `{speech}`\n",
        "Translate the precise summary to {language}.\n",
        "\n",
        "'''\n",
        "prompt=PromptTemplate(\n",
        "    input_variables=['speech','language'],\n",
        "    template=generic_template\n",
        ")"
      ]
    },
    {
      "cell_type": "code",
      "execution_count": null,
      "metadata": {
        "id": "2wANsYMO0jWn",
        "outputId": "3d714ebf-9686-493d-df2d-705375f0af17"
      },
      "outputs": [
        {
          "data": {
            "text/plain": [
              "'\\nWrite a summary of the following speech:\\nSpeech : `\\nPeople across the country, involved in government, political, and social activities, are dedicating their time to make the ‘Viksit Bharat Sankalp Yatra’ (Developed India Resolution Journey) successful. Therefore, as a Member of Parliament, it was my responsibility to also contribute my time to this program. So, today, I have come here just as a Member of Parliament and your ‘sevak’, ready to participate in this program, much like you.\\n\\nIn our country, governments have come and gone, numerous schemes have been formulated, discussions have taken place, and big promises have been made. However, my experience and observations led me to believe that the most critical aspect that requires attention is ensuring that the government’s plans reach the intended beneficiaries without any hassles. If there is a ‘Pradhan Mantri Awas Yojana’ (Prime Minister’s housing scheme), then those who are living in jhuggis and slums should get their houses. And he should not need to make rounds of the government offices for this purpose. The government should reach him. Since you have assigned this responsibility to me, about four crore families have got their ‘pucca’ houses. However, I have encountered cases where someone is left out of the government benefits. Therefore, I have decided to tour the country again, to listen to people’s experiences with government schemes, to understand whether they received the intended benefits, and to ensure that the programs are reaching everyone as planned without paying any bribes. We will get the real picture if we visit them again. Therefore, this ‘Viksit Bharat Sankalp Yatra’ is, in a way, my own examination. I want to hear from you and the people across the country whether what I envisioned and the work I have been doing aligns with reality and whether it has reached those for whom it was meant.\\n\\nIt is crucial to check whether the work that was supposed to happen has indeed taken place. I recently met some individuals who utilized the Ayushman card to get treatment for serious illnesses. One person met with a severe accident, and after using the card, he could afford the necessary operation, and now he is recovering well. When I asked him, he said: “How could I afford this treatment? Now that there is the Ayushman card, I mustered courage and underwent an operation. Now I am perfectly fine.”  Such stories are blessings to me.\\n\\nThe bureaucrats, who prepare good schemes, expedite the paperwork and even allocate funds, also feel satisfied that 50 or 100 people who were supposed to get the funds have got it. The funds meant for a thousand villages have been released. But their job satisfaction peaks when they hear that their work has directly impacted someone’s life positively. When they see the tangible results of their efforts, their enthusiasm multiplies. They feel satisfied. Therefore, ‘Viksit Bharat Sankalp Yatra’ has had a positive impact on government officers. It has made them more enthusiastic about their work, especially when they witness the tangible benefits reaching the people. Officers now feel satisfied with their work, saying, “I made a good plan, I created a file, and the intended beneficiaries received the benefits.” When they find that the money has reached a poor widow under the Jeevan Jyoti scheme and it was a great help to her during her crisis, they realise that they have done a good job. When a government officer listens to such stories, he feels very satisfied.\\n\\nThere are very few who understand the power and impact of the ‘Viksit Bharat Sankalp Yatra’. When I hear people connected to bureaucratic circles talking about it, expressing their satisfaction, it resonates with me. I’ve heard stories where someone suddenly received 2 lakh rupees after the death of her husband, and a sister mentioned how the arrival of gas in her home transformed her lives. The most significant aspect is when someone says that the line between rich and poor has vanished. While the slogan ‘Garibi Hatao’ (Remove Poverty) is one thing, but the real change happens when a person says, “As soon as the gas stove came to my house, the distinction between poverty and affluence disappeared.\\n`\\nTranslate the precise summary to Hindi.\\n\\n'"
            ]
          },
          "execution_count": 10,
          "metadata": {},
          "output_type": "execute_result"
        }
      ],
      "source": [
        "prompt.format(speech=speech,language='Hindi')"
      ]
    },
    {
      "cell_type": "code",
      "execution_count": null,
      "metadata": {
        "id": "eKy7c77h0jWo"
      },
      "outputs": [],
      "source": [
        "complete_prompt=prompt.format(speech=speech,language='Hindi')"
      ]
    },
    {
      "cell_type": "code",
      "execution_count": null,
      "metadata": {
        "id": "6pgKIxmu0jWo",
        "outputId": "87bffffe-b467-44ae-b6a1-9917a96a0663"
      },
      "outputs": [
        {
          "data": {
            "text/plain": [
              "885"
            ]
          },
          "execution_count": 12,
          "metadata": {},
          "output_type": "execute_result"
        }
      ],
      "source": [
        "llm.get_num_tokens(complete_prompt)"
      ]
    },
    {
      "cell_type": "code",
      "execution_count": null,
      "metadata": {
        "id": "AfvzG6vu0jWp"
      },
      "outputs": [],
      "source": [
        "llm_chain=LLMChain(llm=llm,prompt=prompt)\n",
        "summary=llm_chain.run({'speech':speech,'language':'hindi'})"
      ]
    },
    {
      "cell_type": "code",
      "execution_count": null,
      "metadata": {
        "id": "uu3zxumZ0jWp",
        "outputId": "49ea91cd-b38e-46e7-952f-08c6b6dbcf9d"
      },
      "outputs": [
        {
          "data": {
            "text/plain": [
              "'भारत विकसित संकल्प यात्रा को सफल बनाने के लिए देशभर में सरकार, राजनीतिक और सामाजिक गतिविधियों में शामिल लोग अपना समय समर्पित कर रहे हैं। इसलिए, संसद के सदस्य के रूप में इस कार्यक्रम में भाग लेने के लिए मेरी जिम्मेदारी भी थी। तो, आज, मैं यहां सदस्य और आपका सेवक के रूप में पहुंचा हूं, जैसे ही आप लोगों के साथ इस कार्यक्रम में भाग लेने के लिए तैयार हूं।\\n\\nहमारे देश में, सरकारें आईं और चली गईं, अनेक योजनाएं तैयार की गईं, चर्चाएं हुईं और बड़े वादे किए गए हैं। हालांकि, मेरे अनुभव और अवलोकन ने मुझे यह समझाया है कि सबसे महत्वपूर्ण पहलू यह है कि सरकार की योजनाएं निर्धारित लाभार्थियों तक कोई परेशानी के बिना पहुंचे। अगर \\'प्रधानमंत्री आवास योजना\\' है तो उन लोगों को भी अपने घर प्राप्त होने चाहिए जो झुग्गी और स्लम में रह रहे हैं। और उसके लिए वह सरकारी कार्यालयों के चक्कर नहीं काटने की ज़रूरत होनी चाहिए। सरकार को उसके पास पहुंचनी चाहिए। जबसे आपने मुझे इस ज़िम्मेदारी को सौंपा है, लगभग चार करोड़ परिवारों को उनके पक्के घर मिल गए हैं। हालांकि, मैंने ऐसे मामले देखे हैं जहां किसी को सरकारी लाभ मिला ही नहीं। इसलिए, मैंने देश भर में फिर से यात्रा करने का फैसला किया है, लोगों की सरकारी योजनाओं के साथ अनुभव सुनने के लिए, यह जानने के लिए कि क्या उन्होंने इच्छित लाभ प्राप्त किया है और यह सुनिश्चित करने के लिए कि कार्यक्रम सभी के पास यहां तक पहुंच रहा है जैसा योजना में निर्धारित है, किसी को घूस नहीं देने की आवश्यकता है। हम उन्हें फिर से ज़रूर देखेंगे तो हमें असली तस्वीर मिलेगी। इसलिए, यह \\'विकसित भारत संकल्प यात्रा\\' एक तरह से मेरी अपनी परीक्षा है। मैं आपसे और देशभर के लोगों से जानना चाहता हूं कि मेरे ध्यान में आपके साथ जो विचार आया था और मैंने जो काम किया है, क्या यह वास्तविकता के साथ मेल खाता है और क्या यह उन लोगों तक पहुंचा है जिनके लिए यह मांगा गया था।\\n\\nयह महत्वपूर्ण है कि काम जो होना चाहिए, क्या वास्तव में हो गया है यह जांचा जाए। हाल ही में मैंने कुछ लोगों से मिले जिन्होंने गंभीर बीमारियों के उपचार के लिए आयुष्मान कार्ड का उपयोग किया। एक व्यक्ति का गंभीर दुर्घटना में सामना हुआ था और कार्ड का उपयोग करने के बाद, उसने आवश्यक ऑपरेशन कराने की सामर्थ्य प्राप्त की और अब वह पूरी तरह से ठीक हो रहा है। जब मैंने उससे पूछा, तो उसने कहा: \"मैं इस उपचार का कैसे सामर्थ्य रख सकता था? अब जब आयुष्मान कार्ड है, तो मैंने हिम्मत जुटाई और एक ऑपरेशन करवाया। अब मैं पूरी तरह से ठीक हूं।\" ऐसी कहानियाँ मेरे लिए आशीर्वाद हैं।\\n\\nअच्छी योजना तैयार करने वाले नौकरशाहों को भी संतुष्टि होती है कि 50 या 100 लोग, जिन्हें धन प्राप्त होना चाहिए था, उसे प्राप्त कर लेते हैं। हजारों गांवों के लिए धन जारी किए गए हैं। लेकिन उनकी कार्य संतुष्टि उस समय होती है जब उन्हें यह सुनने को मिलता है कि उनका काम किसी के जीवन पर सीधा प्रभाव डाल रहा है। जब वे अपने प्रयासों के प्रत्यक्ष परिणामों को देखते हैं, तो उनका उत्साह बढ़ जाता है। उन्हें संतुष्टि मिलती है। इसलिए, \\'विकसित भारत संकल्प यात्रा\\' ने सरकारी अधिकारियों पर सकारात्मक प्रभाव डाला है। इसने उन्हें उनके काम के प्रति और विशेष रूप से जब वे देखते हैं कि वास्तविक लाभ लोगों तक पहुंच रहा है, तो उनकी उत्साहिता बढ़ जाती है। अधिकारियों को अब अपने काम से संतुष्टि मिलती है, कहते हैं, \"मैंने एक अच्छी योजना बनाई, मैंने एक फ़ाइल तैयार की, और निर्धारित लाभार्थियों को लाभ प्राप्त हुआ।\" जब एक सरकारी अधिकारी ऐसी कहानियों को सुनता है, तो उसे बहुत संतुष्टि मिलती है।\\n\\n\\'विकसित भारत संकल्प यात्रा\\' की शक्ति और प्रभाव को समझने वाले बहुत कम हैं। जब मैं ब्यूरोक्रेटिक सर्कल्स से जुड़े लोगों से इसके बारे में बात करते सुनता हूं, और उनकी संतुष्टि की अभिव्यक्ति सुनता हूं, तो वह मेरे साथ संब'"
            ]
          },
          "execution_count": 14,
          "metadata": {},
          "output_type": "execute_result"
        }
      ],
      "source": [
        "summary"
      ]
    },
    {
      "cell_type": "markdown",
      "metadata": {
        "id": "laoqmqgb0jWp"
      },
      "source": [
        "## StuffDocumentChain Text Summarization"
      ]
    },
    {
      "cell_type": "code",
      "execution_count": null,
      "metadata": {
        "id": "MSUkQHx00jWq"
      },
      "outputs": [],
      "source": [
        "from PyPDF2 import PdfReader"
      ]
    },
    {
      "cell_type": "code",
      "execution_count": null,
      "metadata": {
        "id": "4qEMCQqb0jWq"
      },
      "outputs": [],
      "source": [
        "# provide the path of  pdf file/files.\n",
        "pdfreader = PdfReader('apjspeech.pdf')"
      ]
    },
    {
      "cell_type": "code",
      "execution_count": null,
      "metadata": {
        "id": "1ulyMAI40jWq"
      },
      "outputs": [],
      "source": [
        "from typing_extensions import Concatenate\n",
        "# read text from pdf\n",
        "text = ''\n",
        "for i, page in enumerate(pdfreader.pages):\n",
        "    content = page.extract_text()\n",
        "    if content:\n",
        "        text += content"
      ]
    },
    {
      "cell_type": "code",
      "execution_count": null,
      "metadata": {
        "id": "KcViPJqu0jWq"
      },
      "outputs": [],
      "source": [
        "text"
      ]
    },
    {
      "cell_type": "code",
      "execution_count": null,
      "metadata": {
        "id": "LlASdDft0jWr"
      },
      "outputs": [],
      "source": [
        "from langchain.docstore.document import Document"
      ]
    },
    {
      "cell_type": "code",
      "execution_count": null,
      "metadata": {
        "id": "tu7mP8s30jWr"
      },
      "outputs": [],
      "source": [
        "docs = [Document(page_content=text)]\n",
        "docs"
      ]
    },
    {
      "cell_type": "code",
      "execution_count": null,
      "metadata": {
        "id": "SSOlaUd-0jWr"
      },
      "outputs": [],
      "source": [
        "llm = ChatOpenAI(temperature=0, model_name='gpt-3.5-turbo')"
      ]
    },
    {
      "cell_type": "code",
      "execution_count": null,
      "metadata": {
        "id": "eyAHpRD-0jWs"
      },
      "outputs": [],
      "source": [
        "from langchain import PromptTemplate\n",
        "from langchain.chat_models import ChatOpenAI\n",
        "from langchain.chains.summarize import load_summarize_chain\n",
        "from langchain.docstore.document import Document"
      ]
    },
    {
      "cell_type": "code",
      "execution_count": null,
      "metadata": {
        "id": "YxdvI6t30jWs"
      },
      "outputs": [],
      "source": []
    },
    {
      "cell_type": "code",
      "execution_count": null,
      "metadata": {
        "id": "VdSpfxn90jWs"
      },
      "outputs": [],
      "source": [
        "template = '''Write a concise and short summary of the following speech.\n",
        "Speech: `{text}`\n",
        "'''\n",
        "prompt = PromptTemplate(\n",
        "    input_variables=['text'],\n",
        "    template=template\n",
        ")"
      ]
    },
    {
      "cell_type": "code",
      "execution_count": null,
      "metadata": {
        "id": "0stcyJPa0jWs"
      },
      "outputs": [],
      "source": [
        "chain = load_summarize_chain(\n",
        "    llm,\n",
        "    chain_type='stuff',\n",
        "    prompt=prompt,\n",
        "    verbose=False\n",
        ")\n",
        "output_summary = chain.run(docs)"
      ]
    },
    {
      "cell_type": "code",
      "execution_count": null,
      "metadata": {
        "id": "KqDpwvdL0jWt",
        "outputId": "dcbeb203-eb34-4817-996f-4b6a377e6445"
      },
      "outputs": [
        {
          "data": {
            "text/plain": [
              "'In this speech, A P J Abdul Kalam reflects on his five years as President of India and highlights important messages he has learned during his tenure. He emphasizes the aspirations of the youth, the need to empower villages, the importance of rural core competence for competitiveness, the backbone of agricultural growth, the need to overcome problems through partnership, the courage in combating calamities, the importance'"
            ]
          },
          "execution_count": 25,
          "metadata": {},
          "output_type": "execute_result"
        }
      ],
      "source": [
        "output_summary"
      ]
    },
    {
      "cell_type": "markdown",
      "metadata": {
        "id": "l7CUzqrh0jWt"
      },
      "source": [
        "## Summarizing Large Documents Using Map Reduce"
      ]
    },
    {
      "cell_type": "code",
      "execution_count": null,
      "metadata": {
        "id": "24f0-qnl0jWz"
      },
      "outputs": [],
      "source": [
        "from langchain import PromptTemplate\n",
        "from langchain.chat_models import ChatOpenAI\n",
        "from langchain.chains.summarize import load_summarize_chain\n",
        "from langchain.text_splitter import RecursiveCharacterTextSplitter"
      ]
    },
    {
      "cell_type": "code",
      "execution_count": null,
      "metadata": {
        "id": "H0FE0fbn0jW0"
      },
      "outputs": [],
      "source": [
        "# provide the path of  pdf file/files.\n",
        "pdfreader = PdfReader('apjspeech.pdf')\n",
        "from typing_extensions import Concatenate\n",
        "# read text from pdf\n",
        "text = ''\n",
        "for i, page in enumerate(pdfreader.pages):\n",
        "    content = page.extract_text()\n",
        "    if content:\n",
        "        text += content"
      ]
    },
    {
      "cell_type": "code",
      "execution_count": null,
      "metadata": {
        "id": "p2im7tjw0jW0"
      },
      "outputs": [],
      "source": [
        "llm = ChatOpenAI(temperature=0, model_name='gpt-3.5-turbo')"
      ]
    },
    {
      "cell_type": "code",
      "execution_count": null,
      "metadata": {
        "id": "vDxfM3UF0jW0",
        "outputId": "346550e6-bd3b-4772-9848-b39125246229"
      },
      "outputs": [
        {
          "data": {
            "text/plain": [
              "4001"
            ]
          },
          "execution_count": 29,
          "metadata": {},
          "output_type": "execute_result"
        }
      ],
      "source": [
        "llm.get_num_tokens(text)"
      ]
    },
    {
      "cell_type": "code",
      "execution_count": null,
      "metadata": {
        "id": "-x43ANW30jW1"
      },
      "outputs": [],
      "source": [
        "## Splittting the text\n",
        "text_splitter = RecursiveCharacterTextSplitter(chunk_size=10000, chunk_overlap=20)\n",
        "chunks = text_splitter.create_documents([text])"
      ]
    },
    {
      "cell_type": "code",
      "execution_count": null,
      "metadata": {
        "id": "05EI0Cp-0jW1",
        "outputId": "a83f364c-ca7e-4d3b-f74b-f0dd46f6d5fa"
      },
      "outputs": [
        {
          "data": {
            "text/plain": [
              "2"
            ]
          },
          "execution_count": 32,
          "metadata": {},
          "output_type": "execute_result"
        }
      ],
      "source": [
        "len(chunks)"
      ]
    },
    {
      "cell_type": "code",
      "execution_count": null,
      "metadata": {
        "id": "uWtv51NG0jW2"
      },
      "outputs": [],
      "source": [
        "chain = load_summarize_chain(\n",
        "    llm,\n",
        "    chain_type='map_reduce',\n",
        "    verbose=False\n",
        ")\n",
        "summary = chain.run(chunks)"
      ]
    },
    {
      "cell_type": "code",
      "execution_count": null,
      "metadata": {
        "id": "j1HJtW3U0jW2",
        "outputId": "1e427af7-688f-406d-8123-ad0692ae62b6"
      },
      "outputs": [
        {
          "data": {
            "text/plain": [
              "\"Former President of India, A P J Abdul Kalam, gave a departing speech expressing gratitude for support and collaboration, highlighting the need to accelerate development, empower villages, prioritize agriculture, and promote courage in the face of challenges and calamities. He also emphasized the importance of youth in shaping India's future and preserving its culture and resources.\""
            ]
          },
          "execution_count": 34,
          "metadata": {},
          "output_type": "execute_result"
        }
      ],
      "source": [
        "summary"
      ]
    },
    {
      "cell_type": "markdown",
      "metadata": {
        "id": "1zEdYDeN0jW3"
      },
      "source": [
        "## Map Reduce With Custom Prompts"
      ]
    },
    {
      "cell_type": "code",
      "execution_count": null,
      "metadata": {
        "id": "84S7cvjU0jXL"
      },
      "outputs": [],
      "source": [
        "chunks_prompt=\"\"\"\n",
        "Please summarize the below speech:\n",
        "Speech:`{text}'\n",
        "Summary:\n",
        "\"\"\"\n",
        "map_prompt_template=PromptTemplate(input_variables=['text'],\n",
        "                                    template=chunks_prompt)"
      ]
    },
    {
      "cell_type": "code",
      "execution_count": null,
      "metadata": {
        "id": "eYrcQ50-0jXM"
      },
      "outputs": [],
      "source": [
        "final_combine_prompt='''\n",
        "Provide a final summary of the entire speech with these important points.\n",
        "Add a Generic Motivational Title,\n",
        "Start the precise summary with an introduction and provide the\n",
        "summary in number points for the speech.\n",
        "Speech: `{text}`\n",
        "'''\n",
        "final_combine_prompt_template=PromptTemplate(input_variables=['text'],\n",
        "                                             template=final_combine_prompt)"
      ]
    },
    {
      "cell_type": "code",
      "execution_count": null,
      "metadata": {
        "id": "bbSZABRn0jXM"
      },
      "outputs": [],
      "source": [
        "summary_chain = load_summarize_chain(\n",
        "    llm=llm,\n",
        "    chain_type='map_reduce',\n",
        "    map_prompt=map_prompt_template,\n",
        "    combine_prompt=final_combine_prompt_template,\n",
        "    verbose=False\n",
        ")\n",
        "output = summary_chain.run(chunks)"
      ]
    },
    {
      "cell_type": "code",
      "execution_count": null,
      "metadata": {
        "id": "Emo1fFXK0jXM",
        "outputId": "9eddacf6-35ea-41ca-c661-02fe4575dece"
      },
      "outputs": [
        {
          "data": {
            "text/plain": [
              "'Title: \"Empowering India: Reflections and Aspirations\"\\n\\nSummary:\\n\\n1. Dr. A. P. J. Abdul Kalam reflects on his five years as President of India and highlights important messages he has learned during his time in office.\\n2. He emphasizes the aspirations of the youth and the need to accelerate development in the country.\\n3. The importance of empowering villages and mobilizing rural core competence for competitiveness is discussed.\\n4. Kalam shares his experiences with farmers and emphasizes the importance of agriculture as the backbone of the nation.\\n5. Overcoming challenges and disasters through partnership and courage is emphasized.\\n6. The power of sea waves, his proposal for a Pan African e-Network, and his admiration for the Indian defense forces are also discussed.\\n7. The importance of empowering the youth for a developed India by 2020 is highlighted.\\n8. Preserving India\\'s rich culture and resources is emphasized.\\n9. Dr. Kalam outlines his vision for a developed nation with equitable distribution, quality education, responsive governance, and eradication of poverty and crime.\\n10. Dr. Kalam expresses his gratitude and commitment to the mission of making India a developed nation.'"
            ]
          },
          "execution_count": 38,
          "metadata": {},
          "output_type": "execute_result"
        }
      ],
      "source": [
        "output"
      ]
    },
    {
      "cell_type": "markdown",
      "metadata": {
        "id": "5Cmfq7vl0jXN"
      },
      "source": [
        "## RefineChain For Summarization"
      ]
    },
    {
      "cell_type": "code",
      "execution_count": null,
      "metadata": {
        "id": "FWErXJIq0jXN",
        "outputId": "3dc38e1b-806a-404c-aa28-cdea0a01a68f"
      },
      "outputs": [
        {
          "name": "stdout",
          "output_type": "stream",
          "text": [
            "\n",
            "\n",
            "\u001b[1m> Entering new RefineDocumentsChain chain...\u001b[0m\n",
            "\n",
            "\n",
            "\u001b[1m> Entering new LLMChain chain...\u001b[0m\n",
            "Prompt after formatting:\n",
            "\u001b[32;1m\u001b[1;3mWrite a concise summary of the following:\n",
            "\n",
            "\n",
            "\"A P J Abdul Kalam Departing speech \n",
            " \n",
            " \n",
            "Friends, I am delighted to address you all, in the country and those livi ng abroad, after \n",
            "working with you and completing five beautiful and eventful years in Rashtrapati \n",
            "Bhavan. Today, it is indeed a thanks giving occasion. I would like to narr ate, how I \n",
            "enjoyed every minute of my tenure enriched by the wonderful assoc iation from each one \n",
            "of you, hailing from different walks of life, be it politics, sci ence and technology, \n",
            "academics, arts, literature, business, judiciary, administration, local bodies, farming, \n",
            "home makers, special children, media and above all from the youth and st udent \n",
            "community who are the future wealth of our country. During my intera ction at \n",
            "Rashtrapati Bhavan in Delhi and at every state and union territor y as well as through my \n",
            "online interactions, I have many unique experiences to share with you, which signify the \n",
            "following important messages: \n",
            " \n",
            "1. Accelerate development : Aspiration of the youth, \n",
            " \n",
            "2. Empower villages, \n",
            " \n",
            "3. Mobilize rural core competence for competitiveness, \n",
            " \n",
            "4. Seed to Food: Backbone for agricultural growth \n",
            " \n",
            "5. Defeat problems and succeed, \n",
            " \n",
            "6. Overcome problems through partnership, \n",
            " \n",
            "7. Courage in combating calamities, \n",
            " \n",
            "8. Connectivity for societal transformation, \n",
            " \n",
            "9. Defending the nation: Our pride and \n",
            " \n",
            "10. Youth movement for Developed India 2020. \n",
            " \n",
            "Now let me share with you each of the messages. \n",
            " \n",
            "Accelerate Development: Aspiration of the youth \n",
            "While there were many significant events during my tenure, a que stion from a little girl \n",
            "Anukriti of Sri Sathya Sai Jagriti Vidya Mandir School, of Dar wa village from Haryana, \n",
            "during children’s visit to Rashtrapati Bhavan on May 22, 2006, rings in my  mind ever \n",
            "after. \n",
            " \n",
            "Anukriti asked me “why India cannot become a developed nation before the year 2020”. I \n",
            "appreciated the question and said it was indeed a thoughtful question and as sured her that \n",
            "that her dream would be taken to the highest institution of the nation and we would work for it to achieve before 2020. This question reflects how the desire t o live in developed \n",
            "India has entered into the minds of the youth. The same feelings are  echoed by over \n",
            "fifteen lakh youth, whom I have met so far and who represent the drea m of the 540 \n",
            "million youth of the nation. The aspirations of the young to live in a prosperous, safe and \n",
            "proud India should be the guiding factor in whatever profession we contribute. \n",
            " \n",
            "Empower Villages \n",
            "Friends, I recall my visit to Nagaland on 26th October 2002, soon after m y assuming \n",
            "office as President. It was a unique experience for me at Khuza ma village to meet tribal \n",
            "village council members and discuss with them the village progress  and the dream of \n",
            "village citizens. I was very happy to see the empowered village  council functioning with \n",
            "financial powers and taking decisions. I saw a prosperous village with fruits and \n",
            "vegetables production. However, there is a need for providing physical c onnectivity in \n",
            "Nagaland through quality roads for enabling faster movement of produ cts from villages \n",
            "to the market. That meeting gave me a powerful message about the t ransformation which \n",
            "can take place to the 600,000 villages of India, if all the villages a re empowered to deal \n",
            "with their development and are well connected among themselves and wit h the urban \n",
            "societies. \n",
            " \n",
            "Mobilizing rural core competence for competitiveness \n",
            "Now I would like to talk about the initiative of Periyar Maniammai  College of \n",
            "Technology for Women, Vallam, Tanjore of Providing Urban Amenities in Rural Areas \n",
            "(PURA) complex involving 65 villages with a population of 3 lakhs. This inc ludes \n",
            "provision of three connectivities - physical, electronic and knowledge  - leading to \n",
            "economic connectivity. Periyar PURA has health care centers, pr imary to post graduate \n",
            "level education and vocational training centers. This has resulted i n large-scale \n",
            "employment generation and creation of number of entrepreneurs with the  active support \n",
            "of 1000 self-help groups. Two hundred acres of waste land has been develope d into a \n",
            "cultivable land. The villagers are busy in cultivation, planting Jatropha, herbal and \n",
            "medicinal plants, power generation using bio-mass, food processing and above all \n",
            "running marketing centers. It provides a sustainable economic developm ent model for the \n",
            "whole region. \n",
            " \n",
            "During the last eight months, people of Periyar PURA villages technologically supported \n",
            "by Periyar Maniammai College of Engineering for Women have w orked with experts \n",
            "from Japan External Trade Organisation (JETRO) on various products, for  which core \n",
            "competence and raw material are available in Thanjavur district. They developed \n",
            "internationally competitive prototypes for 55 life style products wi th support of JETRO \n",
            "specialists and feedback from exhibitions at Delhi and Tokyo. This co -operative venture \n",
            "has enhanced the innovative ability of the people of all the 65 villages  enabling them to \n",
            "develop and produce internationally acceptable products. I have seen si milar type of \n",
            "PURA being established in many states. The whole country needs 7000 PU RA to \n",
            "bridging the rural – urban divide. \n",
            " \n",
            "Seed to Food: Backbone for agricultural growth Let me now share with you, the enriching experience I had, whil e meeting more than \n",
            "6000 farmers from different States and Union Territories visitin g Rashtrapati Bhavan. \n",
            "They evinced keen interest in the Mughal Gardens, the Herbal Gardens , the Spiritual \n",
            "Garden, the Musical Garden, the Bio-diesel garden and the Nutrition Garden and interact \n",
            "with the Horticultural specialists. Recently, during my address to the agricultural \n",
            "scientists while participating in a National Symposium on “Agri culture Cannot Wait”, I \n",
            "summarized the many practical suggestions given by farmers. W e have to double the \n",
            "agricultural production with reduced land, reduced water resources and re duced \n",
            "manpower and improve the economic conditions of the nation through the principle  of \n",
            "“Seed to Food” since agriculture is the backbone of the nation. We should em power the \n",
            "farmers to protect and nurture the fertile land for second green re volution. Meeting the \n",
            "Scientists and the Farmers has given me the confidence \n",
            "that the nation is poised to increase the agricultural GDP growth by atleast 4% per annum \n",
            "through the partnership of farmers and agricultural scientists a nd industries particularly \n",
            "for value addition. \n",
            " \n",
            "Defeat the problems and succeed \n",
            "On the evening of February 24, 2007, at Coimbatore, I had a very beautif ul experience. \n",
            "As I got ready for meeting the first person out of twenty appoint ments, a wheel chair was \n",
            "in sight with a smiling person probably in his late fifties; unfortunately he has no hands \n",
            "and legs. His radiant face was revealing his happy state of mi nd. He introduced himself \n",
            "as Vidwan Coimbatore SR Krishna Murthy. I greeted him and asked him  how this had \n",
            "happened. He smilingly said that it was from by birth. He thanked G od, his parents, \n",
            "teachers and many others for giving him confidence, training and he lp. I asked him, what \n",
            "I could do for him? He said, “I don’t need anything from you. I would like to sing in fr ont \n",
            "of you”. I readily agreed. He sang melodiously the Saint Thyagraj a’s pancha ratna kriti \n",
            "entharo mahanubavulu in Sriragam giving me a glimpse of his talent. I was quite  touched. \n",
            "What is the message? Despite being physically challenged, the latent talent of music \n",
            "could blossom in this \n",
            "person with his positive attitude and perseverance, encouraged by the pa rents, teachers, \n",
            "academics and rasikas. Now he wants to give, give and give his art to inspire others. Of \n",
            "course, by his merit of music, in July 2007, he performed in the Rashtra pati Bhavan art \n",
            "theatre. \n",
            " \n",
            "Overcome the impact of disaster through partnership \n",
            "I had the opportunity to experience the Indomitable Spirit of the people  and children of \n",
            "Jammu & Kashmir even as they were just recovering from the de vastating earthquake in \n",
            "2005. I visited Urusa village on 26th November 2005 which has been adopted by the  \n",
            "Western Air Command, Air Force for providing relief and medical aid to the residents of \n",
            "that area. When I went there, I found that the school building had been severely  damaged. \n",
            "I met all the school children and the village citizen of Urusa. T he villagers apprised me of \n",
            "their losses and had all praise for Army and Air Force role in rescue and relief operations \n",
            "along with state government. I appreciate the courage of the people of Urusa in defeating \n",
            "their problems. They have actually become the master of the probl em rather than \n",
            "allowing problems to become their master. Despite the severe l oss due to the earthquake, the children and the members of the village participated in the reli ef operation with the \n",
            "Armed Forces \n",
            "bravely and were smiling when I went to meet them. They interact ed with me and said \n",
            "that the school was functional in the temporary tents. Here, I also witnessed the \n",
            "participation of acting Chief Justice of Jammu & Kashmir along with State Government \n",
            "authorities in on-the-spot settlement of relief grants to be provide d to the victims whose \n",
            "houses had been damaged in the earth quake. I have experienced many s uch acts of \n",
            "courage from our citizens when faced with severe challenges. \n",
            " \n",
            "Courage in combating calamities \n",
            "In 2005, I met the Tribal Council Leaders, Students, Children of Chuckchucha  village \n",
            "during my visit to Car Nicobar Islands. While various reconstruction a nd rehabilitation \n",
            "activities were in progress, during the discussions with the members  of tribal council, I \n",
            "realized the unique trait among the Car-Nicobar islanders. Even thoug h there were many \n",
            "human losses due to the Tsunami of 26 Dec 2004, the tribal islanders had  taken \n",
            "possession of affected victims as their children and there is nothi ng like orphanage in \n",
            "Car-Nicobar Islands. Touched by their courage, I composed few vers es called “Sea\"\n",
            "\n",
            "\n",
            "CONCISE SUMMARY:\u001b[0m\n",
            "\n",
            "\u001b[1m> Finished chain.\u001b[0m\n",
            "\n",
            "\n",
            "\u001b[1m> Entering new LLMChain chain...\u001b[0m\n",
            "Prompt after formatting:\n",
            "\u001b[32;1m\u001b[1;3mYour job is to produce a final summary.\n",
            "We have provided an existing summary up to a certain point: Former President of India, A P J Abdul Kalam, gave a departing speech after completing five years in office. He expressed gratitude for the support and collaboration he received from various sectors of society. He highlighted important messages such as the need to accelerate development, empower villages, mobilize rural core competence, focus on agriculture, overcome challenges, and defend the nation. He shared personal experiences of meeting inspiring individuals, including a disabled musician and resilient communities affected by natural disasters.\n",
            "We have the opportunity to refine the existing summary (only if needed) with some more context below.\n",
            "------------\n",
            "Waves” which reads as follows: \n",
            "Sea Waves \n",
            " \n",
            "We are the children of Sea waves, \n",
            "Sea waves are my friends. \n",
            "When they become angry, \n",
            "Sea waves give the challenges. \n",
            "God has given the courage, \n",
            "To challenge the sea waves. \n",
            "And we will succeed, \n",
            "We will succeed \n",
            "With Almighty’s grace. \n",
            "All the members who were gathered in the village sang the poem  with me and exhibited \n",
            "lots of courage and enthusiasm even though they had gone through severe  suffering \n",
            "during the Tsunami. \n",
            " \n",
            "Connectivity for societal transformation \n",
            "I addressed the Pan African Parliament on 16 September 2004, at Johanne sburg, South \n",
            "Africa. This was attended by 53 member countries of the Africa n Union, where I \n",
            "proposed the concept of Pan African e-Network for providing seamless and integrated \n",
            "satellite, fiber optics and wireless network connecting 53 African countries at an \n",
            "estimated cost of US $ 100 million. \n",
            " \n",
            "As part of the project 12 universities (7 from India and 5 from Afri ca), 17 Super \n",
            "Specialty Hospitals (12 from India and 5 from Africa), 53 tele-me dicine centers and 53 \n",
            "tele-education centres in Africa will be connected. The pilot proj ect on tele-education and \n",
            "tele-medicine in Ethiopia has already been commissioned. Indira Gandh i National Open \n",
            "University has taken up the MBA Course for 34 Ethiopian students of Addis  Ababa and \n",
            "Harmaya Universities. As regards, tele-medicine, the special ists from CARE Hospital, Hyderabad are providing one-hour live tele-consultation to doctors in B lack Lion \n",
            "Hospital, Addis Ababa in Cardiology and Radiology since November 2006. Using the \n",
            "Pan African network the Heads of the State in all the 53 countries  will be connected for \n",
            "instant communication. I am extremely happy that Indian experience  in bringing the \n",
            "benefits of technology to the people has enabled us to work with Afric a to bring societal \n",
            "transformation in the African continent. \n",
            " \n",
            "Defending the nation: Our pride \n",
            "I visited KUMAR in Siachen Glacier located at 17,000 feet altitude  held by the Indian \n",
            "Army, had a memorable underwater journey in INS Sindhurakshak and flew  in a Sukhoi-\n",
            "30 fighter experiencing 2.5 g. In these three experiences, I personal ly felt proud of our \n",
            "ever vigilant Soldiers, Sailors and Air Warriors performing their  tasks beyond the call of \n",
            "their duty even in the most adverse circumstances natural and man m ade. During the last \n",
            "five years, I had an opportunity to present colours to many regime nts, participate in \n",
            "number of passing out parades, meet the troops who were going to undertake  peace \n",
            "missions and interact with the family members of our Defence F orces. Our Defence \n",
            "Forces are in a beautiful mission. When the nation sleeps during night , Members of our \n",
            "Defence teams are awake to guard us and remain vigilant to counte r any threat. The \n",
            "Nation cherishes the valour, commitment and devotion to duty of our Defenc e Forces. \n",
            "Similarly, I had opportunities to interact \n",
            "with members of our para-military forces, central and state poli ce personnel including \n",
            "internal security forces who are making immense contribution in au gmenting the safety \n",
            "and security of our citizens under difficult conditions. \n",
            " \n",
            "Youth movement for Developed India 2020 \n",
            "Recently, in Hyderabad, I met a group of citizens who are putting i nto practice the motto \n",
            "of transforming of our youth into enlightened citizen. The Lead India 2020 Found ation \n",
            "created by Dr. N.B. Sudershan at Hyderabad is training thousands of s tudents in many \n",
            "districts of Andhra Pradesh in partnership with the District Adm inistration. Particularly, I \n",
            "happened to know the transformation which has taken place among the students  of \n",
            "Medak district. As per the district authorities the impact of the  training on the students is \n",
            "visible in terms of self-discipline, love for their parents and tea chers shedding of stage \n",
            "fear and recognition of their duties towards the nation. I talke d to Ms. Padma, a student \n",
            "leader from Andhra Pradesh Tribal Welfare School, Nalgonda who relat ed how she \n",
            "weaned her father away from smoking after imbibing the spirit of  the 10 point oath from \n",
            "the Lead India Training Camp. This gives me an assurance that the  youth of our country \n",
            "are on the right path \n",
            "through this mission oriented programme. With the ignited minds of the  540 million \n",
            "youth below the age of 25, which I consider is the most powerful resour ce on the earth, \n",
            "under the earth and above the earth, we have to empower the youth through va lue based \n",
            "education and leadership. \n",
            " \n",
            "Conclusion \n",
            "I was touched by the variety of Indian panorama, emotional content of  the tune, cultural \n",
            "diversity and unity of minds in the vast land of ours. I have cited thes e examples just to \n",
            "give a glimpse of the richness of our tradition and effort being take n by different agencies to preserve it. There are also many new adventures by instituti ons and individuals. I have \n",
            "experienced many of them and learnt a lot about my country and our peopl e. Even while \n",
            "pursuing our economic growth, we need to do a lot to preserve the rich and diverse \n",
            "treasures of our culture and civilization. It is our duty for our fut ure generations. This has \n",
            "to be done in a much larger scale through countrywide participatio n of multiple \n",
            "institutions. Our country is blessed with natural resources, has shown c onsiderable \n",
            "progress in the last sixty years, and above all we have hard wor king people particularly \n",
            "the power of the 540 million youth of the country. Every sector of our count ry has given \n",
            "me the \n",
            "confidence that India can become a developed nation well before 2020. Whomsoeve r, I \n",
            "met they constantly ask what they can give to the nation. We should c onstantly strive to \n",
            "empower such members of the society. With this spirit, I am extr emely happy that we are \n",
            "on the right path. Here I am reminded of a famous poem: \n",
            "\"When you wish upon a star, \n",
            "Makes no difference who you are, \n",
            "Anything your heart desires, \n",
            "Will come to you” \n",
            "This poem is true to all of us, and particularly for our youth and i f they aim great, I am \n",
            "sure they will reach close to the target or the target. \n",
            " \n",
            "My dear citizens, let us resolve to continue to work for realizing the missions of \n",
            "developed India 2020 with the following distinctive profile. \n",
            " \n",
            "1. A Nation where the rural and urban divide has reduced to a thin line. \n",
            " \n",
            "2. A Nation where there is an equitable distribution and adequate acce ss to energy and \n",
            "quality water. \n",
            " \n",
            "3. A Nation where agriculture, industry and service sector work together in sym phony. \n",
            " \n",
            "4. A Nation where education with value system is not denied to any meritorious \n",
            "candidates because of societal or economic discrimination. \n",
            " \n",
            "5. A Nation which is the best destination for the most talented s cholars, scientists, and \n",
            "investors. \n",
            " \n",
            "6. A Nation where the best of health care is available to all. \n",
            " \n",
            "7. A Nation where the governance is responsive, transparent and corruption free. \n",
            " \n",
            "8. A Nation where poverty has been totally eradicated, illiterac y removed and crimes \n",
            "against women and children are absent and none in the society feels alienated. \n",
            " \n",
            "9. A Nation that is prosperous, healthy, secure, peaceful and happy a nd continues with a \n",
            "sustainable growth path. \n",
            " 10. A Nation that is one of the best places to live in and is proud of its leadership. \n",
            " \n",
            "Finally let me thank each one of you for showering your love and aff ection on me \n",
            "throughout the last five years by your cooperation and support. \n",
            " \n",
            "Dear Citizens, I conclude my address by sharing with you my mission in life which is to \n",
            "bring connectivity between billion hearts and minds of the people of Indi a in our \n",
            "multicultural society and to embed the self confidence that \"we c an do it\". I will be \n",
            "always with you, dear citizens, in the great mission of making Indi a a developed nation \n",
            "before 2020. \n",
            " \n",
            "May God bless you. \n",
            " \n",
            "Jai hind. \n",
            "Dr. A. P. J. Abdul Kalam \n",
            "www.presidentofindia.nic.in\n",
            "------------\n",
            "Given the new context, refine the original summary.\n",
            "If the context isn't useful, return the original summary.\u001b[0m\n",
            "\n",
            "\u001b[1m> Finished chain.\u001b[0m\n",
            "\n",
            "\u001b[1m> Finished chain.\u001b[0m\n"
          ]
        }
      ],
      "source": [
        "chain = load_summarize_chain(\n",
        "    llm=llm,\n",
        "    chain_type='refine',\n",
        "    verbose=True\n",
        ")\n",
        "output_summary = chain.run(chunks)"
      ]
    },
    {
      "cell_type": "code",
      "execution_count": null,
      "metadata": {
        "id": "HcVGT3v_0jXO",
        "outputId": "aa6325cd-5709-4ffa-f3f9-22762305ed41"
      },
      "outputs": [
        {
          "data": {
            "text/plain": [
              "'Former President of India, A P J Abdul Kalam, gave a departing speech after completing five years in office. He expressed gratitude for the support and collaboration he received from various sectors of society. He highlighted important messages such as the need to accelerate development, empower villages, prioritize agriculture, and promote courage in the face of calamities. He also emphasized the importance of youth in shaping the future of India. Additionally, he shared experiences of his visits to Siachen Glacier and his interactions with the defense forces and para-military forces. He mentioned the Pan African e-Network project and the efforts to empower the youth through value-based education and leadership. He concluded by outlining his vision for a developed India by 2020, with a focus on reducing rural-urban divide, equitable distribution of resources, and a corruption-free governance.'"
            ]
          },
          "execution_count": 138,
          "metadata": {},
          "output_type": "execute_result"
        }
      ],
      "source": [
        "output_summary"
      ]
    },
    {
      "cell_type": "code",
      "execution_count": null,
      "metadata": {
        "id": "BhGPr1Es0jXO"
      },
      "outputs": [],
      "source": []
    }
  ],
  "metadata": {
    "kernelspec": {
      "display_name": "Python 3",
      "language": "python",
      "name": "python3"
    },
    "language_info": {
      "codemirror_mode": {
        "name": "ipython",
        "version": 3
      },
      "file_extension": ".py",
      "mimetype": "text/x-python",
      "name": "python",
      "nbconvert_exporter": "python",
      "pygments_lexer": "ipython3",
      "version": "3.9.0"
    },
    "orig_nbformat": 4,
    "colab": {
      "provenance": [],
      "include_colab_link": true
    }
  },
  "nbformat": 4,
  "nbformat_minor": 0
}