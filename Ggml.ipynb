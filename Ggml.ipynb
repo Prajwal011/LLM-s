{
  "nbformat": 4,
  "nbformat_minor": 0,
  "metadata": {
    "colab": {
      "private_outputs": true,
      "provenance": [],
      "gpuType": "T4",
      "include_colab_link": true
    },
    "kernelspec": {
      "name": "python3",
      "display_name": "Python 3"
    },
    "language_info": {
      "name": "python"
    },
    "accelerator": "GPU"
  },
  "cells": [
    {
      "cell_type": "markdown",
      "metadata": {
        "id": "view-in-github",
        "colab_type": "text"
      },
      "source": [
        "<a href=\"https://colab.research.google.com/github/Prajwal011/LLM-s-/blob/main/Ggml.ipynb\" target=\"_parent\"><img src=\"https://colab.research.google.com/assets/colab-badge.svg\" alt=\"Open In Colab\"/></a>"
      ]
    },
    {
      "cell_type": "markdown",
      "source": [
        "#### Install Package"
      ],
      "metadata": {
        "id": "nhKRx0RNeOvu"
      }
    },
    {
      "cell_type": "code",
      "execution_count": null,
      "metadata": {
        "id": "8Hu74s0OdmQ3"
      },
      "outputs": [],
      "source": [
        "!pip install ctransformers"
      ]
    },
    {
      "cell_type": "markdown",
      "source": [
        "#### Load Model"
      ],
      "metadata": {
        "id": "d-jpwEUReVSo"
      }
    },
    {
      "cell_type": "code",
      "source": [
        "!pip install accelerate"
      ],
      "metadata": {
        "id": "-TNJ4Q7Baqd3"
      },
      "execution_count": null,
      "outputs": []
    },
    {
      "cell_type": "code",
      "source": [
        "from ctransformers import AutoModelForCausalLM\n",
        "llm = AutoModelForCausalLM.from_pretrained(\"marella/gpt-2-ggml\")"
      ],
      "metadata": {
        "id": "PkWM5Hh4dWf5"
      },
      "execution_count": null,
      "outputs": []
    },
    {
      "cell_type": "code",
      "source": [
        "print(llm(\"generate some questions for loops python\"))"
      ],
      "metadata": {
        "id": "ZwNf3q7yeA1n"
      },
      "execution_count": null,
      "outputs": []
    },
    {
      "cell_type": "code",
      "source": [
        "from ctransformers import AutoModelForCausalLM\n",
        "\n",
        "llm = AutoModelForCausalLM.from_pretrained(\"TheBloke/Llama-2-13B-GGML\",gpu_layers=3)"
      ],
      "metadata": {
        "id": "dU_8RrFueeYG"
      },
      "execution_count": null,
      "outputs": []
    },
    {
      "cell_type": "markdown",
      "source": [
        "#### Generate Text"
      ],
      "metadata": {
        "id": "4HwKRsrfeokq"
      }
    },
    {
      "cell_type": "code",
      "source": [
        "print(llm(\"generate some code questions for loops python\"))"
      ],
      "metadata": {
        "id": "SPxxmNb1eptT"
      },
      "execution_count": null,
      "outputs": []
    },
    {
      "cell_type": "code",
      "source": [
        "from ctransformers import AutoModelForCausalLM\n",
        "\n",
        "llm = AutoModelForCausalLM.from_pretrained(\"TheBloke/Llama-2-7B-GGML\")"
      ],
      "metadata": {
        "id": "xYI72SumjD1Q"
      },
      "execution_count": null,
      "outputs": []
    },
    {
      "cell_type": "code",
      "source": [
        "print(llm(\"generate some questions for loops python\"))"
      ],
      "metadata": {
        "id": "vuSNb8u3jD_6"
      },
      "execution_count": null,
      "outputs": []
    },
    {
      "cell_type": "code",
      "source": [
        "# Load model directly\n",
        "from transformers import AutoModel\n",
        "model = AutoModel.from_pretrained(\"rustformers/bloom-ggml\")"
      ],
      "metadata": {
        "id": "seXm1xtIlPne"
      },
      "execution_count": null,
      "outputs": []
    },
    {
      "cell_type": "markdown",
      "source": [
        "https://github.com/ggerganov/ggml?tab=readme-ov-file"
      ],
      "metadata": {
        "id": "dpuQMhSdfVQA"
      }
    }
  ]
}